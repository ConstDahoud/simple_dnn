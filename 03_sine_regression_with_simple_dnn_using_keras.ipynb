{
  "nbformat": 4,
  "nbformat_minor": 0,
  "metadata": {
    "colab": {
      "name": "03_sine_regression_with_simple_dnn_using_keras.ipynb",
      "provenance": [],
      "collapsed_sections": [],
      "authorship_tag": "ABX9TyNMjtbJFUCfdkPzvo0Pdy8H",
      "include_colab_link": true
    },
    "kernelspec": {
      "name": "python3",
      "display_name": "Python 3"
    }
  },
  "cells": [
    {
      "cell_type": "markdown",
      "metadata": {
        "id": "view-in-github",
        "colab_type": "text"
      },
      "source": [
        "<a href=\"https://colab.research.google.com/github/ConstDahoud/simple_dnn/blob/main/03_sine_regression_with_simple_dnn_using_keras.ipynb\" target=\"_parent\"><img src=\"https://colab.research.google.com/assets/colab-badge.svg\" alt=\"Open In Colab\"/></a>"
      ]
    },
    {
      "cell_type": "markdown",
      "metadata": {
        "id": "r7ojJDT50hdy"
      },
      "source": [
        "# Sine regression with simple dnn using keras"
      ]
    },
    {
      "cell_type": "markdown",
      "metadata": {
        "id": "Me3yUvMMs3fk"
      },
      "source": [
        "## Setup"
      ]
    },
    {
      "cell_type": "code",
      "metadata": {
        "id": "w-XGPG8Vr-U7"
      },
      "source": [
        "import sys\r\n",
        "assert sys.version_info >= (3, 6)\r\n",
        "\r\n",
        "import tensorflow as tf\r\n",
        "from tensorflow import keras\r\n",
        "assert tf.__version__ >= \"2.0\"\r\n",
        "\r\n",
        "import numpy as np\r\n",
        "import matplotlib.pyplot as plt"
      ],
      "execution_count": 1,
      "outputs": []
    },
    {
      "cell_type": "markdown",
      "metadata": {
        "id": "pcBNPyjVs59J"
      },
      "source": [
        "## Generate the data"
      ]
    },
    {
      "cell_type": "code",
      "metadata": {
        "colab": {
          "base_uri": "https://localhost:8080/",
          "height": 284
        },
        "id": "fXYJfz5rs7To",
        "outputId": "8d417f8c-1fe2-4393-ee03-950abe9bde8e"
      },
      "source": [
        "inputs = np.linspace(-2*np.pi, 2*np.pi, 10000)[:, np.newaxis]\r\n",
        "noise = 0.05 * np.random.normal(size=inputs.shape)\r\n",
        "outputs = np.sin(inputs) + noise\r\n",
        "\r\n",
        "plt.scatter(inputs[:, 0], outputs[:, 0], s=0.1, color='k', marker='o')"
      ],
      "execution_count": 2,
      "outputs": [
        {
          "output_type": "execute_result",
          "data": {
            "text/plain": [
              "<matplotlib.collections.PathCollection at 0x7faf53763400>"
            ]
          },
          "metadata": {
            "tags": []
          },
          "execution_count": 2
        },
        {
          "output_type": "display_data",
          "data": {
            "image/png": "[encoded data removed]",
            "text/plain": [
              "<Figure size 432x288 with 1 Axes>"
            ]
          },
          "metadata": {
            "tags": [],
            "needs_background": "light"
          }
        }
      ]
    },
    {
      "cell_type": "markdown",
      "metadata": {
        "id": "-9CJ5Koq154r"
      },
      "source": [
        "\r\n",
        "> Define a function for shuffling the data\r\n",
        "\r\n"
      ]
    },
    {
      "cell_type": "code",
      "metadata": {
        "id": "XNc3aVXuvT4t"
      },
      "source": [
        "@tf.function\r\n",
        "def column_divide(item):\r\n",
        "    return item[0], item[1]\r\n",
        "\r\n",
        "\r\n",
        "def shuffle_dataset(inputs, outputs, buffer_size=1000, batch_size=32):\r\n",
        "    input_tensors = tf.constant(inputs, dtype=tf.float32)\r\n",
        "    output_tensors = tf.constant(outputs, dtype=tf.float32)\r\n",
        "    dataset = keras.backend.concatenate((input_tensors, output_tensors), axis=1)    # (10000, 2)\r\n",
        "    dataset = tf.data.Dataset.from_tensor_slices(dataset)    # 10000 items, the shape of each item: (2, )\r\n",
        "    dataset = dataset.shuffle(buffer_size=1000).repeat(2)    # 20000 items\r\n",
        "    dataset = dataset.map(column_divide, num_parallel_calls=True)    # 20000 items, the shape of each item: ((input), (output))\r\n",
        "    dataset = dataset.batch(batch_size=batch_size, drop_remainder=True)    # per one item: ([input_1, input_2, ..., input_batch_size], [output_1, output_2, ... , output_batch_size])\r\n",
        "    return dataset.prefetch(1)"
      ],
      "execution_count": 3,
      "outputs": []
    },
    {
      "cell_type": "code",
      "metadata": {
        "id": "jg4e7OIVvwV-"
      },
      "source": [
        "train_set = shuffle_dataset(inputs, outputs, buffer_size=1000, batch_size=32)\r\n",
        "valid_set = shuffle_dataset(inputs, outputs, buffer_size=1000, batch_size=32)"
      ],
      "execution_count": 4,
      "outputs": []
    },
    {
      "cell_type": "markdown",
      "metadata": {
        "id": "Lmqt-CtbuVfV"
      },
      "source": [
        "## Define the model"
      ]
    },
    {
      "cell_type": "code",
      "metadata": {
        "id": "tK48tXawtIPq"
      },
      "source": [
        "simple_dnn = keras.models.Sequential([\r\n",
        "    keras.layers.Dense(20, activation='relu', input_shape=[1]),\r\n",
        "    keras.layers.Dense(20, activation='relu'),\r\n",
        "    keras.layers.Dense(1)\r\n",
        "])"
      ],
      "execution_count": 5,
      "outputs": []
    },
    {
      "cell_type": "markdown",
      "metadata": {
        "id": "8K4l74IGu7Bt"
      },
      "source": [
        "## Compile the model"
      ]
    },
    {
      "cell_type": "code",
      "metadata": {
        "id": "0T_4c9hgu3fN"
      },
      "source": [
        "simple_dnn.compile(optimizer='adam',\r\n",
        "                   loss='mse',\r\n",
        "                   metrics=['mae', 'mse'])"
      ],
      "execution_count": 6,
      "outputs": []
    },
    {
      "cell_type": "markdown",
      "metadata": {
        "id": "IalChaM4zsbA"
      },
      "source": [
        "## Train the model"
      ]
    },
    {
      "cell_type": "code",
      "metadata": {
        "colab": {
          "base_uri": "https://localhost:8080/"
        },
        "id": "YA1trMz8xKpm",
        "outputId": "182aee74-4b6e-46cb-859f-9115544c4b19"
      },
      "source": [
        "checkpoint_cb = keras.callbacks.ModelCheckpoint(\"my_simple_dnn.h5\", save_best_only=True)\r\n",
        "early_stopping_cb = keras.callbacks.EarlyStopping(patience=10, restore_best_weights=True)\r\n",
        "\r\n",
        "history = simple_dnn.fit(train_set, epochs=100,\r\n",
        "                         validation_data=valid_set,\r\n",
        "                         callbacks=[checkpoint_cb, early_stopping_cb])\r\n",
        "simple_dnn = keras.models.load_model(\"my_simple_dnn.h5\")"
      ],
      "execution_count": 7,
      "outputs": [
        {
          "output_type": "stream",
          "text": [
            "Epoch 1/100\n",
            "625/625 [==============================] - 4s 5ms/step - loss: 0.2629 - mae: 0.4147 - mse: 0.2629 - val_loss: 0.2361 - val_mae: 0.4117 - val_mse: 0.2361\n",
            "Epoch 2/100\n",
            "625/625 [==============================] - 2s 4ms/step - loss: 0.1424 - mae: 0.3051 - mse: 0.1424 - val_loss: 0.1561 - val_mae: 0.3166 - val_mse: 0.1561\n",
            "Epoch 3/100\n",
            "625/625 [==============================] - 2s 4ms/step - loss: 0.1352 - mae: 0.2849 - mse: 0.1352 - val_loss: 0.1583 - val_mae: 0.3035 - val_mse: 0.1583\n",
            "Epoch 4/100\n",
            "625/625 [==============================] - 2s 4ms/step - loss: 0.1386 - mae: 0.2751 - mse: 0.1386 - val_loss: 0.1471 - val_mae: 0.2879 - val_mse: 0.1471\n",
            "Epoch 5/100\n",
            "625/625 [==============================] - 2s 4ms/step - loss: 0.1343 - mae: 0.2670 - mse: 0.1343 - val_loss: 0.1326 - val_mae: 0.2751 - val_mse: 0.1326\n",
            "Epoch 6/100\n",
            "625/625 [==============================] - 3s 4ms/step - loss: 0.1135 - mae: 0.2453 - mse: 0.1135 - val_loss: 0.1232 - val_mae: 0.2842 - val_mse: 0.1232\n",
            "Epoch 7/100\n",
            "625/625 [==============================] - 2s 4ms/step - loss: 0.0876 - mae: 0.2163 - mse: 0.0876 - val_loss: 0.1155 - val_mae: 0.2629 - val_mse: 0.1155\n",
            "Epoch 8/100\n",
            "625/625 [==============================] - 2s 4ms/step - loss: 0.0657 - mae: 0.1847 - mse: 0.0657 - val_loss: 0.0953 - val_mae: 0.2268 - val_mse: 0.0953\n",
            "Epoch 9/100\n",
            "625/625 [==============================] - 2s 4ms/step - loss: 0.0487 - mae: 0.1552 - mse: 0.0487 - val_loss: 0.0898 - val_mae: 0.2118 - val_mse: 0.0898\n",
            "Epoch 10/100\n",
            "625/625 [==============================] - 2s 4ms/step - loss: 0.0374 - mae: 0.1296 - mse: 0.0374 - val_loss: 0.0802 - val_mae: 0.2065 - val_mse: 0.0802\n",
            "Epoch 11/100\n",
            "625/625 [==============================] - 3s 4ms/step - loss: 0.0289 - mae: 0.1133 - mse: 0.0289 - val_loss: 0.0643 - val_mae: 0.1783 - val_mse: 0.0643\n",
            "Epoch 12/100\n",
            "625/625 [==============================] - 2s 4ms/step - loss: 0.0214 - mae: 0.0948 - mse: 0.0214 - val_loss: 0.0619 - val_mae: 0.1773 - val_mse: 0.0619\n",
            "Epoch 13/100\n",
            "625/625 [==============================] - 2s 4ms/step - loss: 0.0183 - mae: 0.0869 - mse: 0.0183 - val_loss: 0.0560 - val_mae: 0.1872 - val_mse: 0.0560\n",
            "Epoch 14/100\n",
            "625/625 [==============================] - 3s 4ms/step - loss: 0.0159 - mae: 0.0812 - mse: 0.0159 - val_loss: 0.0386 - val_mae: 0.1350 - val_mse: 0.0386\n",
            "Epoch 15/100\n",
            "625/625 [==============================] - 3s 4ms/step - loss: 0.0129 - mae: 0.0726 - mse: 0.0129 - val_loss: 0.0343 - val_mae: 0.1271 - val_mse: 0.0343\n",
            "Epoch 16/100\n",
            "625/625 [==============================] - 2s 4ms/step - loss: 0.0117 - mae: 0.0700 - mse: 0.0117 - val_loss: 0.0260 - val_mae: 0.1075 - val_mse: 0.0260\n",
            "Epoch 17/100\n",
            "625/625 [==============================] - 2s 4ms/step - loss: 0.0100 - mae: 0.0659 - mse: 0.0100 - val_loss: 0.0192 - val_mae: 0.0912 - val_mse: 0.0192\n",
            "Epoch 18/100\n",
            "625/625 [==============================] - 2s 4ms/step - loss: 0.0082 - mae: 0.0613 - mse: 0.0082 - val_loss: 0.0154 - val_mae: 0.0847 - val_mse: 0.0154\n",
            "Epoch 19/100\n",
            "625/625 [==============================] - 2s 4ms/step - loss: 0.0066 - mae: 0.0569 - mse: 0.0066 - val_loss: 0.0136 - val_mae: 0.0837 - val_mse: 0.0136\n",
            "Epoch 20/100\n",
            "625/625 [==============================] - 3s 4ms/step - loss: 0.0059 - mae: 0.0567 - mse: 0.0059 - val_loss: 0.0077 - val_mae: 0.0640 - val_mse: 0.0077\n",
            "Epoch 21/100\n",
            "625/625 [==============================] - 3s 4ms/step - loss: 0.0046 - mae: 0.0511 - mse: 0.0046 - val_loss: 0.0072 - val_mae: 0.0639 - val_mse: 0.0072\n",
            "Epoch 22/100\n",
            "625/625 [==============================] - 4s 6ms/step - loss: 0.0042 - mae: 0.0503 - mse: 0.0042 - val_loss: 0.0071 - val_mae: 0.0686 - val_mse: 0.0071\n",
            "Epoch 23/100\n",
            "625/625 [==============================] - 3s 4ms/step - loss: 0.0040 - mae: 0.0498 - mse: 0.0040 - val_loss: 0.0049 - val_mae: 0.0540 - val_mse: 0.0049\n",
            "Epoch 24/100\n",
            "625/625 [==============================] - 2s 4ms/step - loss: 0.0039 - mae: 0.0496 - mse: 0.0039 - val_loss: 0.0045 - val_mae: 0.0531 - val_mse: 0.0045\n",
            "Epoch 25/100\n",
            "625/625 [==============================] - 2s 4ms/step - loss: 0.0039 - mae: 0.0494 - mse: 0.0039 - val_loss: 0.0055 - val_mae: 0.0586 - val_mse: 0.0055\n",
            "Epoch 26/100\n",
            "625/625 [==============================] - 3s 4ms/step - loss: 0.0042 - mae: 0.0512 - mse: 0.0042 - val_loss: 0.0041 - val_mae: 0.0508 - val_mse: 0.0041\n",
            "Epoch 27/100\n",
            "625/625 [==============================] - 3s 5ms/step - loss: 0.0037 - mae: 0.0481 - mse: 0.0037 - val_loss: 0.0041 - val_mae: 0.0502 - val_mse: 0.0041\n",
            "Epoch 28/100\n",
            "625/625 [==============================] - 3s 4ms/step - loss: 0.0038 - mae: 0.0489 - mse: 0.0038 - val_loss: 0.0043 - val_mae: 0.0521 - val_mse: 0.0043\n",
            "Epoch 29/100\n",
            "625/625 [==============================] - 2s 4ms/step - loss: 0.0037 - mae: 0.0483 - mse: 0.0037 - val_loss: 0.0040 - val_mae: 0.0502 - val_mse: 0.0040\n",
            "Epoch 30/100\n",
            "625/625 [==============================] - 2s 4ms/step - loss: 0.0038 - mae: 0.0484 - mse: 0.0038 - val_loss: 0.0038 - val_mae: 0.0486 - val_mse: 0.0038\n",
            "Epoch 31/100\n",
            "625/625 [==============================] - 2s 4ms/step - loss: 0.0036 - mae: 0.0476 - mse: 0.0036 - val_loss: 0.0037 - val_mae: 0.0479 - val_mse: 0.0037\n",
            "Epoch 32/100\n",
            "625/625 [==============================] - 2s 4ms/step - loss: 0.0037 - mae: 0.0481 - mse: 0.0037 - val_loss: 0.0040 - val_mae: 0.0501 - val_mse: 0.0040\n",
            "Epoch 33/100\n",
            "625/625 [==============================] - 2s 4ms/step - loss: 0.0035 - mae: 0.0470 - mse: 0.0035 - val_loss: 0.0039 - val_mae: 0.0501 - val_mse: 0.0039\n",
            "Epoch 34/100\n",
            "625/625 [==============================] - 2s 4ms/step - loss: 0.0037 - mae: 0.0480 - mse: 0.0037 - val_loss: 0.0037 - val_mae: 0.0483 - val_mse: 0.0037\n",
            "Epoch 35/100\n",
            "625/625 [==============================] - 2s 4ms/step - loss: 0.0036 - mae: 0.0475 - mse: 0.0036 - val_loss: 0.0037 - val_mae: 0.0482 - val_mse: 0.0037\n",
            "Epoch 36/100\n",
            "625/625 [==============================] - 2s 4ms/step - loss: 0.0037 - mae: 0.0482 - mse: 0.0037 - val_loss: 0.0038 - val_mae: 0.0489 - val_mse: 0.0038\n",
            "Epoch 37/100\n",
            "625/625 [==============================] - 2s 4ms/step - loss: 0.0037 - mae: 0.0480 - mse: 0.0037 - val_loss: 0.0036 - val_mae: 0.0480 - val_mse: 0.0036\n",
            "Epoch 38/100\n",
            "625/625 [==============================] - 3s 4ms/step - loss: 0.0035 - mae: 0.0470 - mse: 0.0035 - val_loss: 0.0038 - val_mae: 0.0490 - val_mse: 0.0038\n",
            "Epoch 39/100\n",
            "625/625 [==============================] - 3s 4ms/step - loss: 0.0034 - mae: 0.0465 - mse: 0.0034 - val_loss: 0.0034 - val_mae: 0.0462 - val_mse: 0.0034\n",
            "Epoch 40/100\n",
            "625/625 [==============================] - 2s 4ms/step - loss: 0.0035 - mae: 0.0466 - mse: 0.0035 - val_loss: 0.0035 - val_mae: 0.0468 - val_mse: 0.0035\n",
            "Epoch 41/100\n",
            "625/625 [==============================] - 2s 4ms/step - loss: 0.0036 - mae: 0.0473 - mse: 0.0036 - val_loss: 0.0034 - val_mae: 0.0461 - val_mse: 0.0034\n",
            "Epoch 42/100\n",
            "625/625 [==============================] - 3s 4ms/step - loss: 0.0034 - mae: 0.0462 - mse: 0.0034 - val_loss: 0.0036 - val_mae: 0.0477 - val_mse: 0.0036\n",
            "Epoch 43/100\n",
            "625/625 [==============================] - 2s 4ms/step - loss: 0.0035 - mae: 0.0463 - mse: 0.0035 - val_loss: 0.0041 - val_mae: 0.0510 - val_mse: 0.0041\n",
            "Epoch 44/100\n",
            "625/625 [==============================] - 2s 4ms/step - loss: 0.0036 - mae: 0.0471 - mse: 0.0036 - val_loss: 0.0035 - val_mae: 0.0471 - val_mse: 0.0035\n",
            "Epoch 45/100\n",
            "625/625 [==============================] - 2s 4ms/step - loss: 0.0034 - mae: 0.0459 - mse: 0.0034 - val_loss: 0.0033 - val_mae: 0.0454 - val_mse: 0.0033\n",
            "Epoch 46/100\n",
            "625/625 [==============================] - 3s 4ms/step - loss: 0.0034 - mae: 0.0465 - mse: 0.0034 - val_loss: 0.0046 - val_mae: 0.0520 - val_mse: 0.0046\n",
            "Epoch 47/100\n",
            "625/625 [==============================] - 2s 4ms/step - loss: 0.0038 - mae: 0.0485 - mse: 0.0038 - val_loss: 0.0035 - val_mae: 0.0472 - val_mse: 0.0035\n",
            "Epoch 48/100\n",
            "625/625 [==============================] - 3s 5ms/step - loss: 0.0036 - mae: 0.0476 - mse: 0.0036 - val_loss: 0.0033 - val_mae: 0.0452 - val_mse: 0.0033\n",
            "Epoch 49/100\n",
            "625/625 [==============================] - 2s 4ms/step - loss: 0.0033 - mae: 0.0456 - mse: 0.0033 - val_loss: 0.0031 - val_mae: 0.0446 - val_mse: 0.0031\n",
            "Epoch 50/100\n",
            "625/625 [==============================] - 2s 4ms/step - loss: 0.0034 - mae: 0.0459 - mse: 0.0034 - val_loss: 0.0039 - val_mae: 0.0488 - val_mse: 0.0039\n",
            "Epoch 51/100\n",
            "625/625 [==============================] - 2s 4ms/step - loss: 0.0038 - mae: 0.0486 - mse: 0.0038 - val_loss: 0.0044 - val_mae: 0.0535 - val_mse: 0.0044\n",
            "Epoch 52/100\n",
            "625/625 [==============================] - 2s 4ms/step - loss: 0.0034 - mae: 0.0460 - mse: 0.0034 - val_loss: 0.0040 - val_mae: 0.0494 - val_mse: 0.0040\n",
            "Epoch 53/100\n",
            "625/625 [==============================] - 2s 4ms/step - loss: 0.0037 - mae: 0.0477 - mse: 0.0037 - val_loss: 0.0042 - val_mae: 0.0508 - val_mse: 0.0042\n",
            "Epoch 54/100\n",
            "625/625 [==============================] - 2s 4ms/step - loss: 0.0036 - mae: 0.0473 - mse: 0.0036 - val_loss: 0.0035 - val_mae: 0.0467 - val_mse: 0.0035\n",
            "Epoch 55/100\n",
            "625/625 [==============================] - 2s 4ms/step - loss: 0.0034 - mae: 0.0465 - mse: 0.0034 - val_loss: 0.0031 - val_mae: 0.0442 - val_mse: 0.0031\n",
            "Epoch 56/100\n",
            "625/625 [==============================] - 3s 4ms/step - loss: 0.0033 - mae: 0.0457 - mse: 0.0033 - val_loss: 0.0033 - val_mae: 0.0455 - val_mse: 0.0033\n",
            "Epoch 57/100\n",
            "625/625 [==============================] - 3s 4ms/step - loss: 0.0033 - mae: 0.0457 - mse: 0.0033 - val_loss: 0.0032 - val_mae: 0.0446 - val_mse: 0.0032\n",
            "Epoch 58/100\n",
            "625/625 [==============================] - 2s 4ms/step - loss: 0.0033 - mae: 0.0454 - mse: 0.0033 - val_loss: 0.0031 - val_mae: 0.0442 - val_mse: 0.0031\n",
            "Epoch 59/100\n",
            "625/625 [==============================] - 2s 4ms/step - loss: 0.0033 - mae: 0.0455 - mse: 0.0033 - val_loss: 0.0030 - val_mae: 0.0435 - val_mse: 0.0030\n",
            "Epoch 60/100\n",
            "625/625 [==============================] - 3s 4ms/step - loss: 0.0033 - mae: 0.0454 - mse: 0.0033 - val_loss: 0.0038 - val_mae: 0.0496 - val_mse: 0.0038\n",
            "Epoch 61/100\n",
            "625/625 [==============================] - 3s 4ms/step - loss: 0.0033 - mae: 0.0454 - mse: 0.0033 - val_loss: 0.0031 - val_mae: 0.0447 - val_mse: 0.0031\n",
            "Epoch 62/100\n",
            "625/625 [==============================] - 2s 4ms/step - loss: 0.0033 - mae: 0.0452 - mse: 0.0033 - val_loss: 0.0033 - val_mae: 0.0457 - val_mse: 0.0033\n",
            "Epoch 63/100\n",
            "625/625 [==============================] - 3s 4ms/step - loss: 0.0034 - mae: 0.0461 - mse: 0.0034 - val_loss: 0.0031 - val_mae: 0.0439 - val_mse: 0.0031\n",
            "Epoch 64/100\n",
            "625/625 [==============================] - 3s 4ms/step - loss: 0.0034 - mae: 0.0461 - mse: 0.0034 - val_loss: 0.0032 - val_mae: 0.0450 - val_mse: 0.0032\n",
            "Epoch 65/100\n",
            "625/625 [==============================] - 3s 4ms/step - loss: 0.0033 - mae: 0.0457 - mse: 0.0033 - val_loss: 0.0035 - val_mae: 0.0468 - val_mse: 0.0035\n",
            "Epoch 66/100\n",
            "625/625 [==============================] - 3s 4ms/step - loss: 0.0033 - mae: 0.0456 - mse: 0.0033 - val_loss: 0.0033 - val_mae: 0.0459 - val_mse: 0.0033\n",
            "Epoch 67/100\n",
            "625/625 [==============================] - 3s 4ms/step - loss: 0.0032 - mae: 0.0450 - mse: 0.0032 - val_loss: 0.0030 - val_mae: 0.0435 - val_mse: 0.0030\n",
            "Epoch 68/100\n",
            "625/625 [==============================] - 3s 4ms/step - loss: 0.0033 - mae: 0.0455 - mse: 0.0033 - val_loss: 0.0033 - val_mae: 0.0453 - val_mse: 0.0033\n",
            "Epoch 69/100\n",
            "625/625 [==============================] - 3s 4ms/step - loss: 0.0034 - mae: 0.0463 - mse: 0.0034 - val_loss: 0.0031 - val_mae: 0.0445 - val_mse: 0.0031\n",
            "Epoch 70/100\n",
            "625/625 [==============================] - 3s 4ms/step - loss: 0.0032 - mae: 0.0451 - mse: 0.0032 - val_loss: 0.0031 - val_mae: 0.0439 - val_mse: 0.0031\n",
            "Epoch 71/100\n",
            "625/625 [==============================] - 2s 4ms/step - loss: 0.0034 - mae: 0.0460 - mse: 0.0034 - val_loss: 0.0032 - val_mae: 0.0447 - val_mse: 0.0032\n",
            "Epoch 72/100\n",
            "625/625 [==============================] - 3s 4ms/step - loss: 0.0033 - mae: 0.0456 - mse: 0.0033 - val_loss: 0.0030 - val_mae: 0.0433 - val_mse: 0.0030\n",
            "Epoch 73/100\n",
            "625/625 [==============================] - 2s 4ms/step - loss: 0.0032 - mae: 0.0446 - mse: 0.0032 - val_loss: 0.0029 - val_mae: 0.0426 - val_mse: 0.0029\n",
            "Epoch 74/100\n",
            "625/625 [==============================] - 2s 4ms/step - loss: 0.0032 - mae: 0.0447 - mse: 0.0032 - val_loss: 0.0030 - val_mae: 0.0438 - val_mse: 0.0030\n",
            "Epoch 75/100\n",
            "625/625 [==============================] - 2s 4ms/step - loss: 0.0031 - mae: 0.0445 - mse: 0.0031 - val_loss: 0.0032 - val_mae: 0.0448 - val_mse: 0.0032\n",
            "Epoch 76/100\n",
            "625/625 [==============================] - 2s 4ms/step - loss: 0.0034 - mae: 0.0461 - mse: 0.0034 - val_loss: 0.0029 - val_mae: 0.0427 - val_mse: 0.0029\n",
            "Epoch 77/100\n",
            "625/625 [==============================] - 2s 4ms/step - loss: 0.0031 - mae: 0.0443 - mse: 0.0031 - val_loss: 0.0034 - val_mae: 0.0460 - val_mse: 0.0034\n",
            "Epoch 78/100\n",
            "625/625 [==============================] - 2s 4ms/step - loss: 0.0031 - mae: 0.0444 - mse: 0.0031 - val_loss: 0.0030 - val_mae: 0.0435 - val_mse: 0.0030\n",
            "Epoch 79/100\n",
            "625/625 [==============================] - 2s 4ms/step - loss: 0.0031 - mae: 0.0441 - mse: 0.0031 - val_loss: 0.0031 - val_mae: 0.0437 - val_mse: 0.0031\n",
            "Epoch 80/100\n",
            "625/625 [==============================] - 3s 4ms/step - loss: 0.0032 - mae: 0.0451 - mse: 0.0032 - val_loss: 0.0032 - val_mae: 0.0449 - val_mse: 0.0032\n",
            "Epoch 81/100\n",
            "625/625 [==============================] - 2s 4ms/step - loss: 0.0032 - mae: 0.0449 - mse: 0.0032 - val_loss: 0.0031 - val_mae: 0.0440 - val_mse: 0.0031\n",
            "Epoch 82/100\n",
            "625/625 [==============================] - 2s 4ms/step - loss: 0.0033 - mae: 0.0456 - mse: 0.0033 - val_loss: 0.0033 - val_mae: 0.0454 - val_mse: 0.0033\n",
            "Epoch 83/100\n",
            "625/625 [==============================] - 2s 4ms/step - loss: 0.0033 - mae: 0.0455 - mse: 0.0033 - val_loss: 0.0029 - val_mae: 0.0429 - val_mse: 0.0029\n"
          ],
          "name": "stdout"
        }
      ]
    },
    {
      "cell_type": "markdown",
      "metadata": {
        "id": "gJQhSXtc29Qm"
      },
      "source": [
        "## Test the model"
      ]
    },
    {
      "cell_type": "code",
      "metadata": {
        "colab": {
          "base_uri": "https://localhost:8080/"
        },
        "id": "PYggIAi6_QsG",
        "outputId": "d88e4fcc-7400-4c78-c9c2-97ffddaec752"
      },
      "source": [
        "test_loss, test_mse, test_mae = simple_dnn.evaluate(inputs, outputs, verbose=0)\r\n",
        "print('\\n테스트 MSE:', test_mse)"
      ],
      "execution_count": 8,
      "outputs": [
        {
          "output_type": "stream",
          "text": [
            "\n",
            "테스트 MSE: 0.04256964102387428\n"
          ],
          "name": "stdout"
        }
      ]
    },
    {
      "cell_type": "markdown",
      "metadata": {
        "id": "FpHtt1FB3Ft1"
      },
      "source": [
        "## Let visualize the result"
      ]
    },
    {
      "cell_type": "code",
      "metadata": {
        "colab": {
          "base_uri": "https://localhost:8080/",
          "height": 284
        },
        "id": "Xn5mrjCNAGFH",
        "outputId": "4a430093-133e-4f8f-e408-b0ee3a57daf1"
      },
      "source": [
        "test_output_pred = simple_dnn.predict(inputs)\r\n",
        "\r\n",
        "plt.scatter(inputs[:, 0], outputs[:, 0], c='k', marker='o', s=0.1)\r\n",
        "plt.scatter(inputs[:, 0], test_output_pred[:, 0], c='r', marker='o', s=0.1)"
      ],
      "execution_count": 9,
      "outputs": [
        {
          "output_type": "execute_result",
          "data": {
            "text/plain": [
              "<matplotlib.collections.PathCollection at 0x7faf4c1ac7f0>"
            ]
          },
          "metadata": {
            "tags": []
          },
          "execution_count": 9
        },
        {
          "output_type": "display_data",
          "data": {
            "image/png": "[encoded data removed]",
            "text/plain": [
              "<Figure size 432x288 with 1 Axes>"
            ]
          },
          "metadata": {
            "tags": [],
            "needs_background": "light"
          }
        }
      ]
    }
  ]
}